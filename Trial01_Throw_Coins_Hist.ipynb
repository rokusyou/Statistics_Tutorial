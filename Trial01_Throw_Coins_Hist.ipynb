{
 "cells": [
  {
   "cell_type": "code",
   "execution_count": 38,
   "metadata": {
    "collapsed": true
   },
   "outputs": [],
   "source": [
    "## 1.コイン投げメソッド作成\n",
    "\n",
    "import random\n",
    "\n",
    "def throw_coin():\n",
    "    result = random.randint(1,2)\n",
    "    if result == 1:        \n",
    "        return \"表\"\n",
    "    else:\n",
    "        return \"裏\""
   ]
  },
  {
   "cell_type": "code",
   "execution_count": 39,
   "metadata": {
    "collapsed": true
   },
   "outputs": [],
   "source": [
    "## 2.コインをN枚投げて表の枚数を数える\n",
    "n = 50\n",
    "def throw_coins(_throw_num):\n",
    "    results = []\n",
    "    omote_num = 0\n",
    "    for i in range(1,_throw_num):\n",
    "        result = throw_coin()\n",
    "        results.append(result)\n",
    "        if result == '表':omote_num +=1\n",
    "    #print(\"表の回数は\" , omote_num, \"です。\")\n",
    "    return omote_num\n",
    "    #print(results)\n"
   ]
  },
  {
   "cell_type": "code",
   "execution_count": 40,
   "metadata": {
    "collapsed": true
   },
   "outputs": [],
   "source": [
    "## 3.2で作成したメソッドをm回試行する\n",
    "m = 10000\n",
    "trial_result = []\n",
    "for i in range(0,m):\n",
    "    trial_result.append(throw_coins(n))\n",
    "#trial_result"
   ]
  },
  {
   "cell_type": "code",
   "execution_count": 41,
   "metadata": {},
   "outputs": [
    {
     "name": "stdout",
     "output_type": "stream",
     "text": [
      "平均回数は 24.4055 でした。\n",
      "分散は 3.466795314119367 でした。\n"
     ]
    }
   ],
   "source": [
    "# 6.正規分布として値を求める\n",
    "from scipy.stats import norm\n",
    "\n",
    "u,sigma = norm.fit(trial_result)\n",
    "print('平均回数は',u,'でした。')\n",
    "print('分散は',sigma,'でした。')"
   ]
  },
  {
   "cell_type": "code",
   "execution_count": 42,
   "metadata": {},
   "outputs": [
    {
     "data": {
      "image/png": "[encoded data removed]",
      "text/plain": [
       "<matplotlib.figure.Figure at 0x1c0cd4c0278>"
      ]
     },
     "metadata": {},
     "output_type": "display_data"
    }
   ],
   "source": [
    "# 作成中2\n",
    "# ヒストと正規分布のフィッティング結果を比較する\n",
    "\n",
    "\n",
    "# ヒストグラムの左右の端を指定\n",
    "left_edge  = u - 5 * sigma\n",
    "right_edge = u + 5 * sigma\n",
    "\n",
    "x = np.linspace(left_edge,right_edge,num=m)\n",
    "pdf_fitted = norm.pdf(x,loc=u,scale=sigma)\n",
    "plt.figure\n",
    "plt.title('Binomial Hist')\n",
    "plt.plot(x,pdf_fitted,'r-' )\n",
    "plt.hist(trial_result,normed=1)\n",
    "plt.show()"
   ]
  }
 ],
 "metadata": {
  "kernelspec": {
   "display_name": "Python 3",
   "language": "python",
   "name": "python3"
  },
  "language_info": {
   "codemirror_mode": {
    "name": "ipython",
    "version": 3
   },
   "file_extension": ".py",
   "mimetype": "text/x-python",
   "name": "python",
   "nbconvert_exporter": "python",
   "pygments_lexer": "ipython3",
   "version": "3.6.2"
  }
 },
 "nbformat": 4,
 "nbformat_minor": 2
}
