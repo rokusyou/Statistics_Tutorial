{
 "cells": [
  {
   "cell_type": "code",
   "execution_count": 15,
   "metadata": {
    "collapsed": true
   },
   "outputs": [],
   "source": [
    "## 1.コイン投げメソッド作成\n",
    "\n",
    "import random\n",
    "\n",
    "def throw_coin():\n",
    "    result = random.randint(1,2)\n",
    "    if result == 1:        \n",
    "        return \"表\"\n",
    "    else:\n",
    "        return \"裏\""
   ]
  },
  {
   "cell_type": "code",
   "execution_count": 16,
   "metadata": {},
   "outputs": [
    {
     "data": {
      "text/plain": [
       "'\\nn = 100\\nresults = []\\nomote_num = 0\\nfor i in range(0,n):\\n    result = throw_coin()\\n    results.append(result)\\n    if result == \\'表\\':omote_num +=1\\nprint(\"表の回数は\" , omote_num, \"です。\")\\n#print(results)\\n'"
      ]
     },
     "execution_count": 16,
     "metadata": {},
     "output_type": "execute_result"
    }
   ],
   "source": [
    "## 2.コインをn枚投げて表の枚数を数える\n",
    "\"\"\"\n",
    "n = 100\n",
    "results = []\n",
    "omote_num = 0\n",
    "for i in range(0,n):\n",
    "    result = throw_coin()\n",
    "    results.append(result)\n",
    "    if result == '表':omote_num +=1\n",
    "print(\"表の回数は\" , omote_num, \"です。\")\n",
    "#print(results)\n",
    "\"\"\""
   ]
  },
  {
   "cell_type": "code",
   "execution_count": 17,
   "metadata": {
    "collapsed": true
   },
   "outputs": [],
   "source": [
    "## 3.「2.コインをN枚投げて表の枚数を数える」をメソッド化\n",
    "n = 50\n",
    "def throw_coins(_throw_num):\n",
    "    results = []\n",
    "    omote_num = 0\n",
    "    for i in range(1,_throw_num):\n",
    "        result = throw_coin()\n",
    "        results.append(result)\n",
    "        if result == '表':omote_num +=1\n",
    "    #print(\"表の回数は\" , omote_num, \"です。\")\n",
    "    return omote_num\n",
    "    #print(results)\n"
   ]
  },
  {
   "cell_type": "code",
   "execution_count": 18,
   "metadata": {
    "collapsed": true
   },
   "outputs": [],
   "source": [
    "## 4. 3.作成したメソッドをm回試行する\n",
    "m = 10000\n",
    "trial_result = []\n",
    "for i in range(0,m):\n",
    "    trial_result.append(throw_coins(n))\n",
    "#trial_result"
   ]
  },
  {
   "cell_type": "code",
   "execution_count": 19,
   "metadata": {},
   "outputs": [
    {
     "data": {
      "text/plain": [
       "(0, 50)"
      ]
     },
     "execution_count": 19,
     "metadata": {},
     "output_type": "execute_result"
    },
    {
     "data": {
      "image/png": "[encoded data removed]",
      "text/plain": [
       "<matplotlib.figure.Figure at 0x1fed83a6c88>"
      ]
     },
     "metadata": {},
     "output_type": "display_data"
    }
   ],
   "source": [
    "## 5. 4の結果をヒストグラムにする\n",
    "%matplotlib inline\n",
    "import matplotlib.pyplot as plt\n",
    "#fig = plt.figure()\n",
    "#ax = fig.add_subplot(100,100,100)\n",
    "#ax.hist(trial_result,bins=1)\n",
    "plt.hist(trial_result,bins=11)\n",
    "plt.xlim([0,n])\n",
    "#plt.plot((0,20))"
   ]
  },
  {
   "cell_type": "code",
   "execution_count": 68,
   "metadata": {
    "collapsed": true
   },
   "outputs": [],
   "source": [
    "#trial_result"
   ]
  },
  {
   "cell_type": "code",
   "execution_count": 79,
   "metadata": {},
   "outputs": [
    {
     "name": "stdout",
     "output_type": "stream",
     "text": [
      "表の平均回数は 49.3764 でした。\n",
      "分散は 4.965251558581901 でした。\n"
     ]
    }
   ],
   "source": [
    "# 6.正規分布でフィッティング\n",
    "from scipy.stats import norm\n",
    "\n",
    "u,sigma = norm.fit(trial_result)\n",
    "print('表の平均回数は',u,'でした。')\n",
    "print('分散は',sigma,'でした。')"
   ]
  },
  {
   "cell_type": "code",
   "execution_count": 83,
   "metadata": {},
   "outputs": [
    {
     "data": {
      "image/png": "[encoded data removed]",
      "text/plain": [
       "<matplotlib.figure.Figure at 0x1e37adb5400>"
      ]
     },
     "metadata": {},
     "output_type": "display_data"
    }
   ],
   "source": [
    "# 作成中\n",
    "# ヒストと正規分布のフィッティング結果を比較する\n",
    "params = norm.fit(trial_result)\n",
    "plt.hist(trial_result,bins=11)\n",
    "plt.xlim([0,n])\n",
    "from scipy import stats\n",
    "import numpy as np\n",
    "x = np.linspace(0,n,num=m)\n",
    "       #linspace\n",
    "norm_fit = stats.norm.pdf(x=x,loc=u,scale=sigma)\n",
    "plt.show(trial_result)"
   ]
  },
  {
   "cell_type": "code",
   "execution_count": null,
   "metadata": {
    "collapsed": true
   },
   "outputs": [],
   "source": []
  }
 ],
 "metadata": {
  "kernelspec": {
   "display_name": "Python 3",
   "language": "python",
   "name": "python3"
  },
  "language_info": {
   "codemirror_mode": {
    "name": "ipython",
    "version": 3
   },
   "file_extension": ".py",
   "mimetype": "text/x-python",
   "name": "python",
   "nbconvert_exporter": "python",
   "pygments_lexer": "ipython3",
   "version": "3.5.3"
  }
 },
 "nbformat": 4,
 "nbformat_minor": 2
}
